{
 "cells": [
  {
   "cell_type": "code",
   "execution_count": 29,
   "metadata": {},
   "outputs": [
    {
     "name": "stdout",
     "output_type": "stream",
     "text": [
      "도커파일 메이커입니다.\n",
      "사용자 명을 입렵해주세요.\n",
      "사용하고자 하는 library 및 버전을 올려주세요. 나중에도 추가 가능합니다.\n",
      "['numpy', '\\n']\n",
      "['asdf', '1.21\\n']\n"
     ]
    }
   ],
   "source": [
    "print(\"도커파일 메이커입니다.\")\n",
    "user_name = input(\"사용자 명을 입렵해주세요.\")\n",
    "lib_list = []\n",
    "print(\"사용하고자 하는 library 및 버전을 올려주세요. 나중에도 추가 가능합니다.\")\n",
    "with open(\"./library.csv\", \"r\") as f:\n",
    "    lines = f.readlines()\n",
    "    for line in lines:\n",
    "        lib_list.append(line.rstrip(',').split(','))\n",
    "\n",
    "for lib in lib_list:\n",
    "    print(lib)"
   ]
  },
  {
   "cell_type": "code",
   "execution_count": 28,
   "metadata": {},
   "outputs": [
    {
     "name": "stdout",
     "output_type": "stream",
     "text": [
      "FROM ubuntu:latest\n",
      "\n",
      "RUN apt-get update && yes|apt-get upgrade\n",
      "RUN apt-get install -y emacs\n",
      "\n",
      "RUN apt-get install -y wget bzip2\n",
      "\n",
      "RUN apt-get -y install sudo\n",
      "\n",
      "RUN adduser --disabled-password --gecos '' ubuntu\n",
      "RUN adduser ubuntu sudo\n",
      "RUN echo '%sudo ALL=(ALL) NOPASSWD:ALL' >> /etc/sudoers\n",
      "USER ubuntu\n",
      "WORKDIR /home/ubuntu/\n",
      "RUN chmod a+rwx /home/ubuntu/\n",
      "\n",
      "RUN wget https://repo.continuum.io/archive/Anaconda3-5.0.1-Linux-x86_64.sh\n",
      "RUN bash Anaconda3-5.0.1-Linux-x86_64.sh -b\n",
      "RUN rm Anaconda3-5.0.1-Linux-x86_64.sh\n",
      "RUN pip install numpy==3.35\n",
      "\n",
      "RUN pip install keras\n",
      "\n",
      "ENV PATH /home/ubuntu/anaconda3/bin:$PATH\n",
      "\n",
      "RUN conda update conda\n",
      "RUN conda update anaconda\n",
      "RUN conda update --all\n",
      "\n",
      "RUN mkdir /home/ubuntu/notebooks\n",
      "RUN jupyter notebook --generate-config --allow-root\n",
      "RUN echo \"c.NotebookApp.password = u'sha1:6a3f528eec40:6e896b6e4828f525a6e20e5411cd1c8075d68619'\" >> /home/ubuntu/.jupyter/jupyter_notebook_config.py\n",
      "\n",
      "EXPOSE 8888\n",
      "\n",
      "CMD [\"jupyter\", \"notebook\", \"--allow-root\", \"--notebook-dir=/home/ubuntu/notebooks\", \"--ip='*'\", \"--port=8888\", \"--no-browser\"]\n",
      "\n"
     ]
    }
   ],
   "source": [
    "file_pre =  \"\"\"FROM ubuntu:latest\n",
    "\n",
    "RUN apt-get update && yes|apt-get upgrade\n",
    "RUN apt-get install -y emacs\n",
    "\n",
    "RUN apt-get install -y wget bzip2\n",
    "\n",
    "RUN apt-get -y install sudo\n",
    "RUN apt-get -y install python3\n",
    "RUN apt-get -y install python3-pip\n",
    "\n",
    "RUN adduser --disabled-password --gecos '' ubuntu\n",
    "RUN adduser ubuntu sudo\n",
    "RUN echo '%sudo ALL=(ALL) NOPASSWD:ALL' >> /etc/sudoers\n",
    "USER ubuntu\n",
    "WORKDIR /home/ubuntu/\n",
    "RUN chmod a+rwx /home/ubuntu/\n",
    "\n",
    "RUN wget https://repo.continuum.io/archive/Anaconda3-5.0.1-Linux-x86_64.sh\n",
    "RUN bash Anaconda3-5.0.1-Linux-x86_64.sh -b\n",
    "RUN rm Anaconda3-5.0.1-Linux-x86_64.sh\n",
    "RUN sudo apt install python3-dev python3-pip\n",
    "RUN sudo pip3 install -U virtualenv\n",
    "RUN export PATH=~/anaconda3/bin:$PATH\n",
    "RUN conda create-y -n venv pip python=3.7\n",
    "RUN source activate venv\"\"\"\n",
    "#################################################\n",
    "file_suf = \"\"\"\n",
    "ENV PATH /home/ubuntu/anaconda3/bin:$PATH\n",
    "\n",
    "RUN conda update conda\n",
    "RUN conda update anaconda\n",
    "RUN conda update --all\n",
    "\n",
    "RUN mkdir /home/ubuntu/notebooks\n",
    "RUN jupyter notebook --generate-config --allow-root\n",
    "RUN echo \"c.NotebookApp.password = u'sha1:6a3f528eec40:6e896b6e4828f525a6e20e5411cd1c8075d68619'\" >> /home/ubuntu/.jupyter/jupyter_notebook_config.py\n",
    "\n",
    "EXPOSE 8888\n",
    "\n",
    "CMD [\"jupyter\", \"notebook\", \"--allow-root\", \"--notebook-dir=/home/ubuntu/notebooks\", \"--ip='*'\", \"--port=8888\", \"--no-browser\"]\n",
    "\"\"\"\n",
    "file_lib = \"\\n\"\n",
    "for i in range(len(lib_list)):\n",
    "    code = \"RUN pip3 install \" + (\"==\").join(lib_list[i]) + \"\\n\"\n",
    "    file_lib += code\n",
    "    \n",
    "file = file_pre + file_lib + file_suf\n",
    "\n",
    "print (file)\n",
    "with open(\"./Dockerfile\", \"w\") as f:\n",
    "    f.write(file)"
   ]
  },
  {
   "cell_type": "code",
   "execution_count": null,
   "metadata": {},
   "outputs": [],
   "source": []
  }
 ],
 "metadata": {
  "kernelspec": {
   "display_name": "Python 3",
   "language": "python",
   "name": "python3"
  },
  "language_info": {
   "codemirror_mode": {
    "name": "ipython",
    "version": 3
   },
   "file_extension": ".py",
   "mimetype": "text/x-python",
   "name": "python",
   "nbconvert_exporter": "python",
   "pygments_lexer": "ipython3",
   "version": "3.7.4"
  }
 },
 "nbformat": 4,
 "nbformat_minor": 2
}
